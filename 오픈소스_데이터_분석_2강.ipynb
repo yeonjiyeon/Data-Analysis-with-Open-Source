{
  "cells": [
    {
      "cell_type": "markdown",
      "metadata": {
        "id": "view-in-github",
        "colab_type": "text"
      },
      "source": [
        "<a href=\"https://colab.research.google.com/github/yeonjiyeon/Data-Analysis-with-Open-Source/blob/chapter02/%EC%98%A4%ED%94%88%EC%86%8C%EC%8A%A4_%EB%8D%B0%EC%9D%B4%ED%84%B0_%EB%B6%84%EC%84%9D_2%EA%B0%95.ipynb\" target=\"_parent\"><img src=\"https://colab.research.google.com/assets/colab-badge.svg\" alt=\"Open In Colab\"/></a>"
      ]
    },
    {
      "cell_type": "markdown",
      "metadata": {
        "id": "DkPKaAsoRq5Q"
      },
      "source": [
        "\n",
        "\n",
        "# 오픈소스 기반 데이터 분석 2강 - 데이터 분석을 위한 파이썬 1\n"
      ]
    },
    {
      "cell_type": "markdown",
      "metadata": {
        "id": "-I7BVVlnRrB0"
      },
      "source": [
        "## 2-1 리스트 슬라이싱"
      ]
    },
    {
      "cell_type": "code",
      "execution_count": 4,
      "metadata": {
        "id": "2Y2HEiaiRwAI",
        "outputId": "af95b942-4467-4cd0-90a4-01e35c866445",
        "colab": {
          "base_uri": "https://localhost:8080/"
        }
      },
      "outputs": [
        {
          "output_type": "stream",
          "name": "stdout",
          "text": [
            "[10, 20, 30, 40]\n",
            "[50, 60, 70]\n"
          ]
        }
      ],
      "source": [
        "numbers = [10, 20, 30, 40, 50, 60, 70]\n",
        "# 첫 4개의 원소 출력\n",
        "first_four = numbers[ : 4]\n",
        "print(first_four)\n",
        "# 뒤 3개의 원소를 출력\n",
        "last_three = numbers[-3 : ]\n",
        "print(last_three)"
      ]
    },
    {
      "cell_type": "code",
      "execution_count": 5,
      "metadata": {
        "id": "IO8bsKekR0W_",
        "outputId": "86cce05c-f1c3-4550-ce16-a575ff9df631",
        "colab": {
          "base_uri": "https://localhost:8080/"
        }
      },
      "outputs": [
        {
          "output_type": "stream",
          "name": "stdout",
          "text": [
            "[10, 30, 50, 70]\n",
            "[70, 60, 50, 40, 30, 20, 10]\n"
          ]
        }
      ],
      "source": [
        "numbers = [10, 20, 30, 40, 50, 60, 70]\n",
        "\n",
        "# 홀수번째 항목 출력\n",
        "every_other_list = numbers[::2]\n",
        "\n",
        "print(every_other_list)\n",
        "\n",
        "# 역순 출력\n",
        "reverse_list = numbers[::-1]\n",
        "print(reverse_list)"
      ]
    },
    {
      "cell_type": "code",
      "execution_count": 6,
      "metadata": {
        "id": "60qOf7uxVdAg",
        "outputId": "dee5423e-0029-4c69-adcc-10d471e9efb7",
        "colab": {
          "base_uri": "https://localhost:8080/"
        }
      },
      "outputs": [
        {
          "output_type": "stream",
          "name": "stdout",
          "text": [
            "[[1, 2, 3, 4], [5, 6, 7, 8]]\n",
            "[[1, 2], [5, 6], [9, 10], [13, 14]]\n"
          ]
        }
      ],
      "source": [
        "matrix = [\n",
        "    [1, 2, 3, 4],\n",
        "    [5, 6, 7, 8],\n",
        "    [9, 10, 11, 12],\n",
        "    [13, 14, 15, 16]\n",
        "]\n",
        "\n",
        "# 첫 두 행 출력\n",
        "first_two_rows = matrix[0:2]\n",
        "\n",
        "print(first_two_rows)\n",
        "\n",
        "# 첫 두 열 출력\n",
        "\n",
        "first_two_columns = [row[0:2] for row in matrix]\n",
        "print(first_two_columns)"
      ]
    },
    {
      "cell_type": "markdown",
      "metadata": {
        "id": "eOMufu5SXiAU"
      },
      "source": [
        "## 2-2 리스트 컴프리헨션"
      ]
    },
    {
      "cell_type": "code",
      "execution_count": 10,
      "metadata": {
        "id": "JpmgdsW9V0CY",
        "outputId": "5b9924d4-e1aa-47ac-8157-e7d55a6b1fcf",
        "colab": {
          "base_uri": "https://localhost:8080/"
        }
      },
      "outputs": [
        {
          "output_type": "stream",
          "name": "stdout",
          "text": [
            "[0, 1, 2, 3, 4]\n"
          ]
        }
      ],
      "source": [
        "numbers = [ ]\n",
        "\n",
        "# 1 ~ 5 포함 리스트 생성\n",
        "# for i in range(5):\n",
        "#     numbers.append(i)\n",
        "numbers = [num for num in range(5)]\n",
        "print(numbers)"
      ]
    },
    {
      "cell_type": "code",
      "execution_count": 12,
      "metadata": {
        "id": "cRC8x3_iW0im",
        "outputId": "a264020c-84d8-4c77-ab0f-4824b37fd9c2",
        "colab": {
          "base_uri": "https://localhost:8080/"
        }
      },
      "outputs": [
        {
          "output_type": "stream",
          "name": "stdout",
          "text": [
            "[1, 4, 9, 16, 25]\n"
          ]
        }
      ],
      "source": [
        "numbers = [1, 2, 3, 4, 5]\n",
        "squares = [ ]\n",
        "\n",
        "# numbers의 모든 항목의 값을 제곱한 리스트\n",
        "# for num in numbers:\n",
        "#   squares.append(num ** 2)\n",
        "squares = [num ** 2 for num in numbers]\n",
        "\n",
        "print(squares)"
      ]
    },
    {
      "cell_type": "code",
      "execution_count": 13,
      "metadata": {
        "id": "MAvimjk6Fqlc",
        "outputId": "5368838b-f365-4bff-fb1b-f48bd2087922",
        "colab": {
          "base_uri": "https://localhost:8080/"
        }
      },
      "outputs": [
        {
          "output_type": "stream",
          "name": "stdout",
          "text": [
            "[2, 4, 6, 8, 10]\n"
          ]
        }
      ],
      "source": [
        "numbers = [1, 2, 3, 4, 5, 6, 7, 8, 9, 10]\n",
        "even_numbers = [ ]\n",
        "\n",
        "# 짝수만 추출한 리스트\n",
        "# for num in numbers:\n",
        "#     if num % 2 == 0:\n",
        "#         even_numbers.append(num)\n",
        "\n",
        "even_numbers = [num for num in numbers if num % 2 == 0]\n",
        "print(even_numbers)"
      ]
    },
    {
      "cell_type": "code",
      "execution_count": 14,
      "metadata": {
        "id": "HGO8XTxBFqld",
        "outputId": "5bd13bee-91e1-4d6c-dad9-ba40f32c7b95",
        "colab": {
          "base_uri": "https://localhost:8080/"
        }
      },
      "outputs": [
        {
          "output_type": "stream",
          "name": "stdout",
          "text": [
            "[('사과', '주스'), ('사과', '잼'), ('사과', '통조림'), ('복숭아', '주스'), ('복숭아', '잼'), ('복숭아', '통조림'), ('바나나', '주스'), ('바나나', '잼'), ('바나나', '통조림')]\n"
          ]
        }
      ],
      "source": [
        "list1 = ['사과', '복숭아', '바나나']\n",
        "list2 = ['주스', '잼', '통조림']\n",
        "pairs = [ ]\n",
        "\n",
        "# 두 리스트에 포함되 모든 원소를 조합한 투플의 리스트 생성\n",
        "# for fruit in list1:\n",
        "#     for product in list2:\n",
        "#         pairs.append((fruit, product))\n",
        "pairs = [(fruit, product) for fruit in list1 for product in list2]\n",
        "\n",
        "print(pairs)"
      ]
    },
    {
      "cell_type": "code",
      "execution_count": 15,
      "metadata": {
        "id": "K-BPhFTUFqle",
        "outputId": "8aace6f6-7f01-4a81-bd7c-221b8a293b5c",
        "colab": {
          "base_uri": "https://localhost:8080/"
        }
      },
      "outputs": [
        {
          "output_type": "stream",
          "name": "stdout",
          "text": [
            "{0: 0, 1: 1, 2: 4, 3: 9, 4: 16}\n"
          ]
        }
      ],
      "source": [
        "squares = { }\n",
        "\n",
        "# 딕셔너리 생성\n",
        "# for i in range(5):\n",
        "#     squares[i] = i ** 2\n",
        "\n",
        "squares = {i: i ** 2 for i in range(5)}\n",
        "print(squares)"
      ]
    },
    {
      "cell_type": "code",
      "execution_count": 16,
      "metadata": {
        "id": "UoTcC8-GFqlf",
        "outputId": "8135fff9-ca16-4ea5-8a4d-847ac75bfc50",
        "colab": {
          "base_uri": "https://localhost:8080/"
        }
      },
      "outputs": [
        {
          "output_type": "stream",
          "name": "stdout",
          "text": [
            "{'서울': 957, '부산': 339, '인천': 294, '대구': 242}\n",
            "{'부산': 339}\n"
          ]
        }
      ],
      "source": [
        "city_population = {\n",
        "    '서울': 957, '부산': 339, '인천': 294, '대구': 242, '광주': 145, '대전': 147,\n",
        "    '울산': 114, '세종': 36, '수원': 115, '창원': 103, '고양': 105, '용인': 108, '성남': 94\n",
        "}\n",
        "\n",
        "# 인구 200만명 이상의 도시 리스트\n",
        "large_cities = {city : pop for city, pop in city_population.items() if pop >= 200}\n",
        "\n",
        "print(large_cities)\n",
        "\n",
        "# 인구 300만 이상 및 이름에 '산'이 포함된 도시 리스트\n",
        "large_short_name_cities = {city: pop for city, pop in city_population.items() if pop >= 300 and '산' in city}\n",
        "\n",
        "print(large_short_name_cities)"
      ]
    },
    {
      "cell_type": "markdown",
      "metadata": {
        "id": "njDOfr1LFqlf"
      },
      "source": [
        "## 2-3 문자열 형식화"
      ]
    },
    {
      "cell_type": "code",
      "execution_count": 17,
      "metadata": {
        "id": "fzO0h6KfFqlg",
        "outputId": "6654589a-1fb1-4465-ad3d-2526917ce1bc",
        "colab": {
          "base_uri": "https://localhost:8080/"
        }
      },
      "outputs": [
        {
          "output_type": "stream",
          "name": "stdout",
          "text": [
            "이름: 홍길동, 나이: 30, 월급: 3500000원\n"
          ]
        }
      ],
      "source": [
        "name = '홍길동'\n",
        "age = 30\n",
        "salary = 3500000\n",
        "tax_rate = 0.1\n",
        "\n",
        "# C 스타일 문자열 포매팅\n",
        "# 이름, 나이, 월급 출력\n",
        "basic_format = '이름: %s, 나이: %d, 월급: %d원' % (name, age, salary)\n",
        "# 직원이름, 나이, 세후 월급 출력\n",
        "\n",
        "\n",
        "# 직원이름, 나이, 월급, 세금, 실수령액 추력\n",
        "\n",
        "\n",
        "print(basic_format)\n",
        "# print(index_format)\n",
        "# print(keyword_format)"
      ]
    },
    {
      "cell_type": "code",
      "source": [
        "name = '홍길동'\n",
        "age = 30\n",
        "salary = 3500000\n",
        "tax_rate = 0.1\n",
        "\n",
        "# str.format 문자열 포매팅\n",
        "# 이름, 나이, 월급 출력\n",
        "# basic_format = '이름: {}, 나이: {}, 월급: {}원' .format(name, age, salary)\n",
        "basic_format = '이름: {0}, 나이: {1}, 월급: {2}원' .format(name, age, salary)\n",
        "# 직원이름, 나이, 세후 월급 출력\n",
        "\n",
        "# 직원이름, 나이, 월급, 세금, 실수령액 추력\n",
        "\n",
        "\n",
        "print(basic_format)\n",
        "# print(index_format)\n",
        "# print(keyword_format)"
      ],
      "metadata": {
        "id": "cIvmmcQux_ph",
        "outputId": "a3d63285-688b-4639-d558-0600e3a5cbf6",
        "colab": {
          "base_uri": "https://localhost:8080/"
        }
      },
      "execution_count": 20,
      "outputs": [
        {
          "output_type": "stream",
          "name": "stdout",
          "text": [
            "이름: 홍길동, 나이: 30, 월급: 3500000원\n"
          ]
        }
      ]
    },
    {
      "cell_type": "code",
      "source": [
        "name = '홍길동'\n",
        "age = 30\n",
        "salary = 3500000\n",
        "tax_rate = 0.1\n",
        "\n",
        "# f-문자열 포매팅\n",
        "# 이름, 나이, 월급 출력\n",
        "basic_format = F'이름: {name}, 나이: {age}, 월급: {salary:,}원'\n",
        "# 직원이름, 나이, 세후 월급 출력\n",
        "\n",
        "# 직원이름, 나이, 월급, 세금, 실수령액 추력\n",
        "\n",
        "\n",
        "print(basic_format)\n",
        "# print(index_format)\n",
        "# print(keyword_format)"
      ],
      "metadata": {
        "id": "EIO3z-XQx_ce",
        "outputId": "c294324d-e88f-44bf-b2f0-d49ae1c9ff46",
        "colab": {
          "base_uri": "https://localhost:8080/"
        }
      },
      "execution_count": 23,
      "outputs": [
        {
          "output_type": "stream",
          "name": "stdout",
          "text": [
            "이름: 홍길동, 나이: 30, 월급: 3,500,000원\n"
          ]
        }
      ]
    },
    {
      "cell_type": "markdown",
      "metadata": {
        "id": "6lnhCleJFqlg"
      },
      "source": [
        "## 2-4 컨텍스트 관리"
      ]
    },
    {
      "cell_type": "code",
      "execution_count": 24,
      "metadata": {
        "id": "eFpmQp3QFqlh"
      },
      "outputs": [],
      "source": [
        "# 파일 오픈 & 클로즈\n",
        "# file = open('output.txt', 'w')\n",
        "# file.write('Hello, world!\\n')\n",
        "# file.close()\n",
        "with open('output.txt', 'w') as file_write:\n",
        "    file_write.write('Hello, world!\\n')"
      ]
    },
    {
      "cell_type": "code",
      "execution_count": null,
      "metadata": {
        "id": "D0aOLti0Fqlh"
      },
      "outputs": [],
      "source": [
        "# 복수개의 파일(읽기 & 쓰기) 관리\n",
        "\n"
      ]
    },
    {
      "cell_type": "code",
      "execution_count": 26,
      "metadata": {
        "id": "6SE0rrD5Fqli",
        "outputId": "4738a5a6-2dbe-47af-af3d-dc53b8b46e1d",
        "colab": {
          "base_uri": "https://localhost:8080/",
          "height": 110
        }
      },
      "outputs": [
        {
          "output_type": "error",
          "ename": "SyntaxError",
          "evalue": "expected ':' (ipython-input-3763502387.py, line 4)",
          "traceback": [
            "\u001b[0;36m  File \u001b[0;32m\"/tmp/ipython-input-3763502387.py\"\u001b[0;36m, line \u001b[0;32m4\u001b[0m\n\u001b[0;31m    with open('https://raw.githubusercontent.com/jaehwachung/Data-Analysis-with-Open-Source/refs/heads/main/Chapter%203/students.csv') as data\u001b[0m\n\u001b[0m                                                                                                                                              ^\u001b[0m\n\u001b[0;31mSyntaxError\u001b[0m\u001b[0;31m:\u001b[0m expected ':'\n"
          ]
        }
      ],
      "source": [
        "import urllib.request\n",
        "\n",
        "# URL 연결 관리\n",
        "('https://raw.githubusercontent.com/jaehwachung/Data-Analysis-with-Open-Source/refs/heads/main/Chapter%203/students.csv')\n",
        "    data = response.read( ).decode('utf-8')\n",
        "\n",
        "print(data)"
      ]
    }
  ],
  "metadata": {
    "colab": {
      "provenance": [],
      "include_colab_link": true
    },
    "kernelspec": {
      "display_name": "Python 3",
      "name": "python3"
    },
    "language_info": {
      "name": "python"
    }
  },
  "nbformat": 4,
  "nbformat_minor": 0
}